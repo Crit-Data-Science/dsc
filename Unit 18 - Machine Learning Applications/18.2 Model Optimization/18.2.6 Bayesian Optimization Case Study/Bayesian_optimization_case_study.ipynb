{
 "cells": [
  {
   "cell_type": "markdown",
   "metadata": {
    "colab_type": "text",
    "id": "WNK7vbHo-KYU"
   },
   "source": [
    "## Bayesian methods of hyperparameter optimization"
   ]
  },
  {
   "cell_type": "markdown",
   "metadata": {
    "colab_type": "text",
    "id": "BlFdvPwF-KYW"
   },
   "source": [
    "In addition to the random search and the grid search methods for selecting optimal hyperparameters, we can use Bayesian methods of probabilities to select the optimal hyperparameters for an algorithm.\n",
    "\n",
    "In this case study, we will be using the BayesianOptimization library to perform hyperparmater tuning. This library has very good documentation which you can find here: https://github.com/fmfn/BayesianOptimization\n",
    "\n",
    "You will need to install the Bayesian optimization module. Running a cell with an exclamation point in the beginning of the command will run it as a shell command — please do this to install this module from our notebook in the cell below."
   ]
  },
  {
   "cell_type": "code",
   "execution_count": 1,
   "metadata": {
    "colab": {},
    "colab_type": "code",
    "id": "Pssx080d-Ulf"
   },
   "outputs": [
    {
     "name": "stdout",
     "output_type": "stream",
     "text": [
      "Collecting bayesian-optimization\n",
      "  Downloading bayesian_optimization-1.4.3-py3-none-any.whl (18 kB)\n",
      "Requirement already satisfied: numpy>=1.9.0 in c:\\anaconda3\\envs\\notebook\\lib\\site-packages (from bayesian-optimization) (1.26.3)\n",
      "Requirement already satisfied: scipy>=1.0.0 in c:\\anaconda3\\envs\\notebook\\lib\\site-packages (from bayesian-optimization) (1.11.4)\n",
      "Requirement already satisfied: scikit-learn>=0.18.0 in c:\\anaconda3\\envs\\notebook\\lib\\site-packages (from bayesian-optimization) (1.2.2)\n",
      "Requirement already satisfied: colorama>=0.4.6 in c:\\anaconda3\\envs\\notebook\\lib\\site-packages (from bayesian-optimization) (0.4.6)\n",
      "Requirement already satisfied: joblib>=1.1.1 in c:\\anaconda3\\envs\\notebook\\lib\\site-packages (from scikit-learn>=0.18.0->bayesian-optimization) (1.2.0)\n",
      "Requirement already satisfied: threadpoolctl>=2.0.0 in c:\\anaconda3\\envs\\notebook\\lib\\site-packages (from scikit-learn>=0.18.0->bayesian-optimization) (2.2.0)\n",
      "Installing collected packages: bayesian-optimization\n",
      "Successfully installed bayesian-optimization-1.4.3\n"
     ]
    }
   ],
   "source": [
    "! pip install bayesian-optimization"
   ]
  },
  {
   "cell_type": "code",
   "execution_count": 4,
   "metadata": {
    "ExecuteTime": {
     "end_time": "2019-04-22T16:39:09.312682Z",
     "start_time": "2019-04-22T16:39:09.309208Z"
    },
    "_kg_hide-input": true,
    "colab": {},
    "colab_type": "code",
    "id": "l9nfFTyj-KYY"
   },
   "outputs": [],
   "source": [
    "import warnings\n",
    "warnings.filterwarnings('ignore')\n",
    "from sklearn.preprocessing import LabelEncoder\n",
    "import numpy as np\n",
    "import pandas as pd\n",
    "import lightgbm\n",
    "from bayes_opt import BayesianOptimization\n",
    "from catboost import CatBoostClassifier, cv, Pool"
   ]
  },
  {
   "cell_type": "code",
   "execution_count": 5,
   "metadata": {
    "colab": {
     "base_uri": "https://localhost:8080/",
     "height": 85
    },
    "colab_type": "code",
    "id": "D16Dquw1AAK0",
    "outputId": "44167587-f22e-4bf5-a816-e2bcfdc6c4ee"
   },
   "outputs": [
    {
     "data": {
      "text/plain": [
       "['.DS_Store',\n",
       " '.ipynb_checkpoints',\n",
       " 'Bayesian_optimization_case_study.ipynb',\n",
       " 'flight_delays_test.csv.zip',\n",
       " 'flight_delays_train.csv.zip']"
      ]
     },
     "execution_count": 5,
     "metadata": {},
     "output_type": "execute_result"
    }
   ],
   "source": [
    "import os\n",
    "os.listdir()"
   ]
  },
  {
   "cell_type": "markdown",
   "metadata": {
    "ExecuteTime": {
     "end_time": "2019-04-22T14:48:15.929012Z",
     "start_time": "2019-04-22T14:48:15.926574Z"
    },
    "colab_type": "text",
    "id": "AkBt3yds-KYu"
   },
   "source": [
    "## How does Bayesian optimization work?"
   ]
  },
  {
   "cell_type": "markdown",
   "metadata": {
    "colab_type": "text",
    "id": "E1kyBCUs-KYv"
   },
   "source": [
    "Bayesian optimization works by constructing a posterior distribution of functions (Gaussian process) that best describes the function you want to optimize. As the number of observations grows, the posterior distribution improves, and the algorithm becomes more certain of which regions in parameter space are worth exploring and which are not, as seen in the picture below."
   ]
  },
  {
   "cell_type": "markdown",
   "metadata": {
    "colab_type": "text",
    "id": "gAdHF72R-KYw"
   },
   "source": [
    "<img src=\"https://github.com/fmfn/BayesianOptimization/blob/master/examples/bo_example.png?raw=true\" />\n",
    "As you iterate over and over, the algorithm balances its needs of exploration and exploitation while taking into account what it knows about the target function. At each step, a Gaussian Process is fitted to the known samples (points previously explored), and the posterior distribution, combined with an exploration strategy (such as UCB — aka Upper Confidence Bound), or EI (Expected Improvement). This process is used to determine the next point that should be explored (see the gif below).\n",
    "<img src=\"https://github.com/fmfn/BayesianOptimization/raw/master/examples/bayesian_optimization.gif\" />"
   ]
  },
  {
   "cell_type": "markdown",
   "metadata": {
    "colab_type": "text",
    "id": "RTP8KUlLoYzu"
   },
   "source": [
    "## Let's look at a simple example"
   ]
  },
  {
   "cell_type": "markdown",
   "metadata": {
    "colab_type": "text",
    "id": "crpPqKdC-KYx"
   },
   "source": [
    "The first step is to create an optimizer. It uses two items:\n",
    "* function to optimize\n",
    "* bounds of parameters\n",
    "\n",
    "The function is the procedure that counts metrics of our model quality. The important thing is that our optimization will maximize the value on function. Smaller metrics are best. Hint: don't forget to use negative metric values."
   ]
  },
  {
   "cell_type": "markdown",
   "metadata": {
    "colab_type": "text",
    "id": "e09ciF8gpTfr"
   },
   "source": [
    "Here we define our simple function we want to optimize."
   ]
  },
  {
   "cell_type": "code",
   "execution_count": 7,
   "metadata": {
    "colab": {},
    "colab_type": "code",
    "id": "ofwvnfEwo5mG"
   },
   "outputs": [],
   "source": [
    "def simple_func(a, b):\n",
    "    return a + b"
   ]
  },
  {
   "cell_type": "markdown",
   "metadata": {
    "colab_type": "text",
    "id": "XCGsdciCpeI3"
   },
   "source": [
    "Now, we define our bounds of the parameters to optimize, within the Bayesian optimizer."
   ]
  },
  {
   "cell_type": "code",
   "execution_count": 31,
   "metadata": {
    "colab": {},
    "colab_type": "code",
    "id": "4jLYW2qnpOFr"
   },
   "outputs": [],
   "source": [
    "optimizer = BayesianOptimization(\n",
    "    simple_func,\n",
    "    {'a': (1, 3),\n",
    "    'b': (4, 7)}, verbose = 4)"
   ]
  },
  {
   "cell_type": "markdown",
   "metadata": {
    "colab_type": "text",
    "id": "dg6LdYx8pq2T"
   },
   "source": [
    "These are the main parameters of this function:\n",
    "\n",
    "* **n_iter:** This is how many steps of Bayesian optimization you want to perform. The more steps, the more likely you are to find a good maximum.\n",
    "\n",
    "* **init_points:** This is how many steps of random exploration you want to perform. Random exploration can help by diversifying the exploration space."
   ]
  },
  {
   "cell_type": "markdown",
   "metadata": {
    "colab_type": "text",
    "id": "i-GKMJ1uqMYv"
   },
   "source": [
    "Let's run an example where we use the optimizer to find the best values to maximize the target value for a and b given the inputs of 3 and 2."
   ]
  },
  {
   "cell_type": "code",
   "execution_count": 32,
   "metadata": {
    "colab": {
     "base_uri": "https://localhost:8080/",
     "height": 153
    },
    "colab_type": "code",
    "id": "Oy44Ro7wqNat",
    "outputId": "9cc64d54-b1e6-46d1-dc29-4c0039a1c72d"
   },
   "outputs": [
    {
     "name": "stdout",
     "output_type": "stream",
     "text": [
      "|   iter    |  target   |     a     |     b     |\n",
      "-------------------------------------------------\n",
      "| \u001b[0m1        \u001b[0m | \u001b[0m7.405    \u001b[0m | \u001b[0m1.68     \u001b[0m | \u001b[0m5.725    \u001b[0m |\n",
      "| \u001b[0m2        \u001b[0m | \u001b[0m6.163    \u001b[0m | \u001b[0m1.234    \u001b[0m | \u001b[0m4.929    \u001b[0m |\n",
      "| \u001b[0m3        \u001b[0m | \u001b[0m6.119    \u001b[0m | \u001b[0m1.041    \u001b[0m | \u001b[0m5.078    \u001b[0m |\n",
      "| \u001b[95m4        \u001b[0m | \u001b[95m8.191    \u001b[0m | \u001b[95m2.046    \u001b[0m | \u001b[95m6.145    \u001b[0m |\n",
      "| \u001b[95m5        \u001b[0m | \u001b[95m10.0     \u001b[0m | \u001b[95m3.0      \u001b[0m | \u001b[95m7.0      \u001b[0m |\n",
      "=================================================\n"
     ]
    }
   ],
   "source": [
    "optimizer.maximize(3,2)"
   ]
  },
  {
   "cell_type": "markdown",
   "metadata": {
    "colab_type": "text",
    "id": "tyKFMF2Hq2Sx"
   },
   "source": [
    "Great, now let's print the best parameters and the associated maximized target."
   ]
  },
  {
   "cell_type": "code",
   "execution_count": 33,
   "metadata": {
    "colab": {
     "base_uri": "https://localhost:8080/",
     "height": 51
    },
    "colab_type": "code",
    "id": "_H6DixyfscV_",
    "outputId": "fd0c35d7-e30d-4d30-9ab2-12c0fa837971"
   },
   "outputs": [
    {
     "name": "stdout",
     "output_type": "stream",
     "text": [
      "{'a': 3.0, 'b': 7.0}\n"
     ]
    },
    {
     "data": {
      "text/plain": [
       "10.0"
      ]
     },
     "execution_count": 33,
     "metadata": {},
     "output_type": "execute_result"
    }
   ],
   "source": [
    "print(optimizer.max['params']);optimizer.max['target']"
   ]
  },
  {
   "cell_type": "markdown",
   "metadata": {
    "colab_type": "text",
    "id": "tQ1T1V6Mspi4"
   },
   "source": [
    "## Test it on real data using the Light GBM"
   ]
  },
  {
   "cell_type": "markdown",
   "metadata": {
    "colab_type": "text",
    "id": "y_oGwREZkm4h"
   },
   "source": [
    "The dataset we will be working with is the famous flight departures dataset. Our modeling goal will be to predict if a flight departure is going to be delayed by 15 minutes based on the other attributes in our dataset. As part of this modeling exercise, we will use Bayesian hyperparameter optimization to identify the best parameters for our model."
   ]
  },
  {
   "cell_type": "markdown",
   "metadata": {
    "colab_type": "text",
    "id": "abYSagjQANDZ"
   },
   "source": [
    "**<font color='teal'> You can load the zipped csv files just as you would regular csv files using Pandas read_csv. In the next cell load the train and test data into two seperate dataframes. </font>**\n"
   ]
  },
  {
   "cell_type": "code",
   "execution_count": 34,
   "metadata": {
    "colab": {},
    "colab_type": "code",
    "id": "EWKBApVuAeJe"
   },
   "outputs": [],
   "source": [
    "train_df = pd.read_csv('flight_delays_train.csv.zip')\n",
    "test_df = pd.read_csv('flight_delays_test.csv.zip')"
   ]
  },
  {
   "cell_type": "markdown",
   "metadata": {
    "colab_type": "text",
    "id": "OapNcT9Eikis"
   },
   "source": [
    "**<font color='teal'> Print the top five rows of the train dataframe and review the columns in the data. </font>**"
   ]
  },
  {
   "cell_type": "code",
   "execution_count": 35,
   "metadata": {
    "colab": {
     "base_uri": "https://localhost:8080/",
     "height": 204
    },
    "colab_type": "code",
    "id": "__4cXZ8iiYaC",
    "outputId": "8718ad4b-8955-486c-9ae8-1dee6aa6c2fb"
   },
   "outputs": [
    {
     "data": {
      "text/html": [
       "<div>\n",
       "<style scoped>\n",
       "    .dataframe tbody tr th:only-of-type {\n",
       "        vertical-align: middle;\n",
       "    }\n",
       "\n",
       "    .dataframe tbody tr th {\n",
       "        vertical-align: top;\n",
       "    }\n",
       "\n",
       "    .dataframe thead th {\n",
       "        text-align: right;\n",
       "    }\n",
       "</style>\n",
       "<table border=\"1\" class=\"dataframe\">\n",
       "  <thead>\n",
       "    <tr style=\"text-align: right;\">\n",
       "      <th></th>\n",
       "      <th>Month</th>\n",
       "      <th>DayofMonth</th>\n",
       "      <th>DayOfWeek</th>\n",
       "      <th>DepTime</th>\n",
       "      <th>UniqueCarrier</th>\n",
       "      <th>Origin</th>\n",
       "      <th>Dest</th>\n",
       "      <th>Distance</th>\n",
       "      <th>dep_delayed_15min</th>\n",
       "    </tr>\n",
       "  </thead>\n",
       "  <tbody>\n",
       "    <tr>\n",
       "      <th>0</th>\n",
       "      <td>c-8</td>\n",
       "      <td>c-21</td>\n",
       "      <td>c-7</td>\n",
       "      <td>1934</td>\n",
       "      <td>AA</td>\n",
       "      <td>ATL</td>\n",
       "      <td>DFW</td>\n",
       "      <td>732</td>\n",
       "      <td>N</td>\n",
       "    </tr>\n",
       "    <tr>\n",
       "      <th>1</th>\n",
       "      <td>c-4</td>\n",
       "      <td>c-20</td>\n",
       "      <td>c-3</td>\n",
       "      <td>1548</td>\n",
       "      <td>US</td>\n",
       "      <td>PIT</td>\n",
       "      <td>MCO</td>\n",
       "      <td>834</td>\n",
       "      <td>N</td>\n",
       "    </tr>\n",
       "    <tr>\n",
       "      <th>2</th>\n",
       "      <td>c-9</td>\n",
       "      <td>c-2</td>\n",
       "      <td>c-5</td>\n",
       "      <td>1422</td>\n",
       "      <td>XE</td>\n",
       "      <td>RDU</td>\n",
       "      <td>CLE</td>\n",
       "      <td>416</td>\n",
       "      <td>N</td>\n",
       "    </tr>\n",
       "    <tr>\n",
       "      <th>3</th>\n",
       "      <td>c-11</td>\n",
       "      <td>c-25</td>\n",
       "      <td>c-6</td>\n",
       "      <td>1015</td>\n",
       "      <td>OO</td>\n",
       "      <td>DEN</td>\n",
       "      <td>MEM</td>\n",
       "      <td>872</td>\n",
       "      <td>N</td>\n",
       "    </tr>\n",
       "    <tr>\n",
       "      <th>4</th>\n",
       "      <td>c-10</td>\n",
       "      <td>c-7</td>\n",
       "      <td>c-6</td>\n",
       "      <td>1828</td>\n",
       "      <td>WN</td>\n",
       "      <td>MDW</td>\n",
       "      <td>OMA</td>\n",
       "      <td>423</td>\n",
       "      <td>Y</td>\n",
       "    </tr>\n",
       "  </tbody>\n",
       "</table>\n",
       "</div>"
      ],
      "text/plain": [
       "  Month DayofMonth DayOfWeek  DepTime UniqueCarrier Origin Dest  Distance  \\\n",
       "0   c-8       c-21       c-7     1934            AA    ATL  DFW       732   \n",
       "1   c-4       c-20       c-3     1548            US    PIT  MCO       834   \n",
       "2   c-9        c-2       c-5     1422            XE    RDU  CLE       416   \n",
       "3  c-11       c-25       c-6     1015            OO    DEN  MEM       872   \n",
       "4  c-10        c-7       c-6     1828            WN    MDW  OMA       423   \n",
       "\n",
       "  dep_delayed_15min  \n",
       "0                 N  \n",
       "1                 N  \n",
       "2                 N  \n",
       "3                 N  \n",
       "4                 Y  "
      ]
     },
     "execution_count": 35,
     "metadata": {},
     "output_type": "execute_result"
    }
   ],
   "source": [
    "train_df.head()"
   ]
  },
  {
   "cell_type": "markdown",
   "metadata": {
    "colab_type": "text",
    "id": "UxGBsPQhffgd"
   },
   "source": [
    "**<font color='teal'> Use the describe function to review the numeric columns in the train dataframe. </font>**"
   ]
  },
  {
   "cell_type": "code",
   "execution_count": 37,
   "metadata": {
    "colab": {
     "base_uri": "https://localhost:8080/",
     "height": 297
    },
    "colab_type": "code",
    "id": "_bRRKG3DAtae",
    "outputId": "7cfb9975-ec97-422c-abbd-98923a0b7aec"
   },
   "outputs": [
    {
     "data": {
      "text/html": [
       "<div>\n",
       "<style scoped>\n",
       "    .dataframe tbody tr th:only-of-type {\n",
       "        vertical-align: middle;\n",
       "    }\n",
       "\n",
       "    .dataframe tbody tr th {\n",
       "        vertical-align: top;\n",
       "    }\n",
       "\n",
       "    .dataframe thead th {\n",
       "        text-align: right;\n",
       "    }\n",
       "</style>\n",
       "<table border=\"1\" class=\"dataframe\">\n",
       "  <thead>\n",
       "    <tr style=\"text-align: right;\">\n",
       "      <th></th>\n",
       "      <th>DepTime</th>\n",
       "      <th>Distance</th>\n",
       "    </tr>\n",
       "  </thead>\n",
       "  <tbody>\n",
       "    <tr>\n",
       "      <th>count</th>\n",
       "      <td>100000.000000</td>\n",
       "      <td>100000.00000</td>\n",
       "    </tr>\n",
       "    <tr>\n",
       "      <th>mean</th>\n",
       "      <td>1341.523880</td>\n",
       "      <td>729.39716</td>\n",
       "    </tr>\n",
       "    <tr>\n",
       "      <th>std</th>\n",
       "      <td>476.378445</td>\n",
       "      <td>574.61686</td>\n",
       "    </tr>\n",
       "    <tr>\n",
       "      <th>min</th>\n",
       "      <td>1.000000</td>\n",
       "      <td>30.00000</td>\n",
       "    </tr>\n",
       "    <tr>\n",
       "      <th>25%</th>\n",
       "      <td>931.000000</td>\n",
       "      <td>317.00000</td>\n",
       "    </tr>\n",
       "    <tr>\n",
       "      <th>50%</th>\n",
       "      <td>1330.000000</td>\n",
       "      <td>575.00000</td>\n",
       "    </tr>\n",
       "    <tr>\n",
       "      <th>75%</th>\n",
       "      <td>1733.000000</td>\n",
       "      <td>957.00000</td>\n",
       "    </tr>\n",
       "    <tr>\n",
       "      <th>max</th>\n",
       "      <td>2534.000000</td>\n",
       "      <td>4962.00000</td>\n",
       "    </tr>\n",
       "  </tbody>\n",
       "</table>\n",
       "</div>"
      ],
      "text/plain": [
       "             DepTime      Distance\n",
       "count  100000.000000  100000.00000\n",
       "mean     1341.523880     729.39716\n",
       "std       476.378445     574.61686\n",
       "min         1.000000      30.00000\n",
       "25%       931.000000     317.00000\n",
       "50%      1330.000000     575.00000\n",
       "75%      1733.000000     957.00000\n",
       "max      2534.000000    4962.00000"
      ]
     },
     "execution_count": 37,
     "metadata": {},
     "output_type": "execute_result"
    }
   ],
   "source": [
    "train_df.describe()"
   ]
  },
  {
   "cell_type": "markdown",
   "metadata": {
    "colab_type": "text",
    "id": "i6k-_fI5Aiyh"
   },
   "source": [
    "Notice, `DepTime` is the departure time in a numeric representation in 2400 hours. "
   ]
  },
  {
   "cell_type": "markdown",
   "metadata": {
    "colab_type": "text",
    "id": "gtZS4-hrlQah"
   },
   "source": [
    " **<font color='teal'>The response variable is 'dep_delayed_15min' which is a categorical column, so we need to map the Y for yes and N for no values to 1 and 0. Run the code in the next cell to do this.</font>**"
   ]
  },
  {
   "cell_type": "code",
   "execution_count": 38,
   "metadata": {
    "ExecuteTime": {
     "end_time": "2019-04-22T15:38:42.677690Z",
     "start_time": "2019-04-22T15:38:42.481963Z"
    },
    "colab": {},
    "colab_type": "code",
    "id": "yRlOTbnW-KYc"
   },
   "outputs": [],
   "source": [
    "#train_df = train_df[train_df.DepTime <= 2400].copy()\n",
    "y_train = train_df['dep_delayed_15min'].map({'Y': 1, 'N': 0}).values"
   ]
  },
  {
   "cell_type": "markdown",
   "metadata": {
    "colab_type": "text",
    "id": "z3WPkFQO9uo9"
   },
   "source": [
    "## Feature Engineering\n",
    "Use these defined functions to create additional features for the model. Run the cell to add the functions to your workspace."
   ]
  },
  {
   "cell_type": "code",
   "execution_count": 39,
   "metadata": {
    "colab": {},
    "colab_type": "code",
    "id": "cXqsqz5W9t3r"
   },
   "outputs": [],
   "source": [
    "def label_enc(df_column):\n",
    "    df_column = LabelEncoder().fit_transform(df_column)\n",
    "    return df_column\n",
    "\n",
    "def make_harmonic_features_sin(value, period=2400):\n",
    "    value *= 2 * np.pi / period \n",
    "    return np.sin(value)\n",
    "\n",
    "def make_harmonic_features_cos(value, period=2400):\n",
    "    value *= 2 * np.pi / period \n",
    "    return np.cos(value)\n",
    "\n",
    "def feature_eng(df):\n",
    "    df['flight'] = df['Origin']+df['Dest']\n",
    "    df['Month'] = df.Month.map(lambda x: x.split('-')[-1]).astype('int32')\n",
    "    df['DayofMonth'] = df.DayofMonth.map(lambda x: x.split('-')[-1]).astype('uint8')\n",
    "    df['begin_of_month'] = (df['DayofMonth'] < 10).astype('uint8')\n",
    "    df['midddle_of_month'] = ((df['DayofMonth'] >= 10)&(df['DayofMonth'] < 20)).astype('uint8')\n",
    "    df['end_of_month'] = (df['DayofMonth'] >= 20).astype('uint8')\n",
    "    df['DayOfWeek'] = df.DayOfWeek.map(lambda x: x.split('-')[-1]).astype('uint8')\n",
    "    df['hour'] = df.DepTime.map(lambda x: x/100).astype('int32')\n",
    "    df['morning'] = df['hour'].map(lambda x: 1 if (x <= 11)& (x >= 7) else 0).astype('uint8')\n",
    "    df['day'] = df['hour'].map(lambda x: 1 if (x >= 12) & (x <= 18) else 0).astype('uint8')\n",
    "    df['evening'] = df['hour'].map(lambda x: 1 if (x >= 19) & (x <= 23) else 0).astype('uint8')\n",
    "    df['night'] = df['hour'].map(lambda x: 1 if (x >= 0) & (x <= 6) else 0).astype('int32')\n",
    "    df['winter'] = df['Month'].map(lambda x: x in [12, 1, 2]).astype('int32')\n",
    "    df['spring'] = df['Month'].map(lambda x: x in [3, 4, 5]).astype('int32')\n",
    "    df['summer'] = df['Month'].map(lambda x: x in [6, 7, 8]).astype('int32')\n",
    "    df['autumn'] = df['Month'].map(lambda x: x in [9, 10, 11]).astype('int32')\n",
    "    df['holiday'] = (df['DayOfWeek'] >= 5).astype(int) \n",
    "    df['weekday'] = (df['DayOfWeek'] < 5).astype(int)\n",
    "    df['airport_dest_per_month'] = df.groupby(['Dest', 'Month'])['Dest'].transform('count')\n",
    "    df['airport_origin_per_month'] = df.groupby(['Origin', 'Month'])['Origin'].transform('count')\n",
    "    df['airport_dest_count'] = df.groupby(['Dest'])['Dest'].transform('count')\n",
    "    df['airport_origin_count'] = df.groupby(['Origin'])['Origin'].transform('count')\n",
    "    df['carrier_count'] = df.groupby(['UniqueCarrier'])['Dest'].transform('count')\n",
    "    df['carrier_count_per month'] = df.groupby(['UniqueCarrier', 'Month'])['Dest'].transform('count')\n",
    "    df['deptime_cos'] = df['DepTime'].map(make_harmonic_features_cos)\n",
    "    df['deptime_sin'] = df['DepTime'].map(make_harmonic_features_sin)\n",
    "    df['flightUC'] = df['flight']+df['UniqueCarrier']\n",
    "    df['DestUC'] = df['Dest']+df['UniqueCarrier']\n",
    "    df['OriginUC'] = df['Origin']+df['UniqueCarrier']\n",
    "    return df.drop('DepTime', axis=1)"
   ]
  },
  {
   "cell_type": "markdown",
   "metadata": {
    "colab_type": "text",
    "id": "-BYbxXpU-FGE"
   },
   "source": [
    "Concatenate the training and testing dataframes.\n"
   ]
  },
  {
   "cell_type": "code",
   "execution_count": 40,
   "metadata": {
    "colab": {},
    "colab_type": "code",
    "id": "Cj6bfSNw_RAf"
   },
   "outputs": [],
   "source": [
    "full_df = pd.concat([train_df.drop('dep_delayed_15min', axis=1), test_df])\n",
    "full_df = feature_eng(full_df)"
   ]
  },
  {
   "cell_type": "markdown",
   "metadata": {
    "colab_type": "text",
    "id": "GSO8JbfM_W-F"
   },
   "source": [
    "Apply the earlier defined feature engineering functions to the full dataframe."
   ]
  },
  {
   "cell_type": "code",
   "execution_count": 41,
   "metadata": {
    "colab": {},
    "colab_type": "code",
    "id": "x6RfAINftjwi"
   },
   "outputs": [],
   "source": [
    "for column in ['UniqueCarrier', 'Origin', 'Dest','flight',  'flightUC', 'DestUC', 'OriginUC']:\n",
    "    full_df[column] = label_enc(full_df[column])"
   ]
  },
  {
   "cell_type": "markdown",
   "metadata": {
    "colab_type": "text",
    "id": "IJAw1RGB_ZuM"
   },
   "source": [
    "\n",
    "Split the new full dataframe into X_train and X_test. "
   ]
  },
  {
   "cell_type": "code",
   "execution_count": 42,
   "metadata": {
    "colab": {},
    "colab_type": "code",
    "id": "15cPtQU5tjfz"
   },
   "outputs": [],
   "source": [
    "X_train = full_df[:train_df.shape[0]]\n",
    "X_test = full_df[train_df.shape[0]:]"
   ]
  },
  {
   "cell_type": "markdown",
   "metadata": {
    "colab_type": "text",
    "id": "umfAw-9JErLV"
   },
   "source": [
    "Create a list of the categorical features."
   ]
  },
  {
   "cell_type": "code",
   "execution_count": 43,
   "metadata": {
    "ExecuteTime": {
     "end_time": "2019-04-22T14:31:58.412296Z",
     "start_time": "2019-04-22T14:31:58.409088Z"
    },
    "colab": {},
    "colab_type": "code",
    "id": "5ibeVyNb-KZI"
   },
   "outputs": [],
   "source": [
    "categorical_features = ['Month',  'DayOfWeek', 'UniqueCarrier', 'Origin', 'Dest','flight',  'flightUC', 'DestUC', 'OriginUC']"
   ]
  },
  {
   "cell_type": "markdown",
   "metadata": {
    "colab_type": "text",
    "id": "NzMIsMPIETVk"
   },
   "source": [
    "Let's build a light GBM model to test the bayesian optimizer."
   ]
  },
  {
   "cell_type": "markdown",
   "metadata": {
    "ExecuteTime": {
     "end_time": "2019-04-22T15:18:04.466965Z",
     "start_time": "2019-04-22T15:18:04.457992Z"
    },
    "colab_type": "text",
    "id": "2hfm1i5G-KZH"
   },
   "source": [
    "### [LightGBM](https://lightgbm.readthedocs.io/en/latest/) is a gradient boosting framework that uses tree-based learning algorithms. It is designed to be distributed and efficient with the following advantages:\n",
    "\n",
    "* Faster training speed and higher efficiency.\n",
    "* Lower memory usage.\n",
    "* Better accuracy.\n",
    "* Support of parallel and GPU learning.\n",
    "* Capable of handling large-scale data."
   ]
  },
  {
   "cell_type": "markdown",
   "metadata": {
    "colab_type": "text",
    "id": "jf-3F2Wg-KZL"
   },
   "source": [
    "First, we define the function we want to maximize and that will count cross-validation metrics of lightGBM for our parameters.\n",
    "\n",
    "Some params such as num_leaves, max_depth, min_child_samples, min_data_in_leaf should be integers."
   ]
  },
  {
   "cell_type": "code",
   "execution_count": 54,
   "metadata": {
    "ExecuteTime": {
     "end_time": "2019-04-22T15:40:14.034265Z",
     "start_time": "2019-04-22T15:40:14.027868Z"
    },
    "colab": {},
    "colab_type": "code",
    "id": "LyUJBhGX-KZM"
   },
   "outputs": [],
   "source": [
    "def lgb_eval(num_leaves,max_depth,lambda_l2,lambda_l1,min_child_samples, min_data_in_leaf):\n",
    "    params = {\n",
    "        \"objective\" : \"binary\",\n",
    "        \"metric\" : \"auc\", \n",
    "        'is_unbalance': True,\n",
    "        \"num_leaves\" : int(num_leaves),\n",
    "        \"max_depth\" : int(max_depth),\n",
    "        \"lambda_l2\" : lambda_l2,\n",
    "        \"lambda_l1\" : lambda_l1,\n",
    "        \"num_threads\" : 20,\n",
    "        \"min_child_samples\" : int(min_child_samples),\n",
    "        'min_data_in_leaf': int(min_data_in_leaf),\n",
    "        \"learning_rate\" : 0.03,\n",
    "        \"subsample_freq\" : 5,\n",
    "        \"bagging_seed\" : 42,\n",
    "        \"verbosity\" : -1\n",
    "    }\n",
    "    lgtrain = lightgbm.Dataset(X_train, y_train,categorical_feature=categorical_features)\n",
    "    cv_result = lightgbm.cv(params,\n",
    "                       lgtrain,\n",
    "                       1000,\n",
    "                       stratified=True,\n",
    "                       nfold=3,\n",
    "                           callbacks=[lightgbm.early_stopping(stopping_rounds=100),])\n",
    "    return cv_result['valid auc-mean'][-1]"
   ]
  },
  {
   "cell_type": "code",
   "execution_count": 51,
   "metadata": {},
   "outputs": [
    {
     "name": "stdout",
     "output_type": "stream",
     "text": [
      "Training until validation scores don't improve for 100 rounds\n",
      "Early stopping, best iteration is:\n",
      "[85]\tcv_agg's valid auc: 0.719803 + 0.00430166\n"
     ]
    }
   ],
   "source": [
    "t = lgb_eval(num_leaves=25, max_depth=5, lambda_l2 = 0.01, lambda_l1 = 0.01, min_child_samples= 50, min_data_in_leaf = 100)"
   ]
  },
  {
   "cell_type": "code",
   "execution_count": 52,
   "metadata": {},
   "outputs": [
    {
     "data": {
      "text/plain": [
       "dict"
      ]
     },
     "execution_count": 52,
     "metadata": {},
     "output_type": "execute_result"
    }
   ],
   "source": [
    "type(t)"
   ]
  },
  {
   "cell_type": "code",
   "execution_count": 53,
   "metadata": {},
   "outputs": [
    {
     "data": {
      "text/plain": [
       "{'valid auc-mean': [0.6925587393239797,\n",
       "  0.7003121809218538,\n",
       "  0.704441159263835,\n",
       "  0.7061028412529168,\n",
       "  0.707147700275299,\n",
       "  0.7085270198356534,\n",
       "  0.7092542694289321,\n",
       "  0.7098242941764011,\n",
       "  0.7098164183846823,\n",
       "  0.7103008356253308,\n",
       "  0.7108345331526421,\n",
       "  0.7113065417966964,\n",
       "  0.7119560428854176,\n",
       "  0.7123336711122206,\n",
       "  0.7126974394409524,\n",
       "  0.713029170317984,\n",
       "  0.7132380623584602,\n",
       "  0.7134260698369977,\n",
       "  0.7136374225647582,\n",
       "  0.7141698781974068,\n",
       "  0.7142073350958236,\n",
       "  0.714802350080599,\n",
       "  0.7149439326957304,\n",
       "  0.7151381052840451,\n",
       "  0.7153871988012049,\n",
       "  0.7154806928261429,\n",
       "  0.7156437590075062,\n",
       "  0.7155704899510668,\n",
       "  0.7157822095808072,\n",
       "  0.7158400934272043,\n",
       "  0.7160378438765993,\n",
       "  0.7161732458935349,\n",
       "  0.7161715773880347,\n",
       "  0.7164112689934314,\n",
       "  0.7165243104091497,\n",
       "  0.7166192983142224,\n",
       "  0.716651038938985,\n",
       "  0.7166340144706714,\n",
       "  0.7166129546382569,\n",
       "  0.7168538618545646,\n",
       "  0.7168678641414807,\n",
       "  0.717168367799646,\n",
       "  0.7173485604808202,\n",
       "  0.7174562917300772,\n",
       "  0.717566131354308,\n",
       "  0.7176297457731834,\n",
       "  0.7176927239267893,\n",
       "  0.717915792541723,\n",
       "  0.7179765170809894,\n",
       "  0.7180953328109387,\n",
       "  0.7181212816961339,\n",
       "  0.7181928068164206,\n",
       "  0.7182253657857585,\n",
       "  0.718387225169451,\n",
       "  0.7184126468828733,\n",
       "  0.7184541453802805,\n",
       "  0.7184606580291707,\n",
       "  0.7185172036946513,\n",
       "  0.7186073470475204,\n",
       "  0.7185975694386357,\n",
       "  0.718698754713946,\n",
       "  0.7188867518979375,\n",
       "  0.7189475127648918,\n",
       "  0.7191028756751896,\n",
       "  0.7190630984177874,\n",
       "  0.719119687486656,\n",
       "  0.7191866088899284,\n",
       "  0.7192694855071676,\n",
       "  0.7193180073184081,\n",
       "  0.7193181509059333,\n",
       "  0.7194290044850676,\n",
       "  0.7193849222015333,\n",
       "  0.7194698078208197,\n",
       "  0.7194719664004404,\n",
       "  0.7195683800476314,\n",
       "  0.7196046798096933,\n",
       "  0.7196584242593991,\n",
       "  0.7197217657529791,\n",
       "  0.719727310108655,\n",
       "  0.7197610798660246,\n",
       "  0.71978113902777,\n",
       "  0.7197470668864204,\n",
       "  0.7197899826375141,\n",
       "  0.7197656016088047,\n",
       "  0.7198033766759458],\n",
       " 'valid auc-stdv': [0.005962281149530567,\n",
       "  0.005414234586307006,\n",
       "  0.005378462255850364,\n",
       "  0.004845294055320077,\n",
       "  0.00386307848089468,\n",
       "  0.0037127834730658264,\n",
       "  0.003218489335996708,\n",
       "  0.0034352126947820062,\n",
       "  0.0038588348506061907,\n",
       "  0.003867333398116007,\n",
       "  0.003995436256688753,\n",
       "  0.00413956095754066,\n",
       "  0.004268077355788628,\n",
       "  0.004016773286103153,\n",
       "  0.00416760271458662,\n",
       "  0.0038848253770740184,\n",
       "  0.003967978512837378,\n",
       "  0.003939905148148591,\n",
       "  0.004078565615807871,\n",
       "  0.003913858462748487,\n",
       "  0.0037167937664881858,\n",
       "  0.003906008362526695,\n",
       "  0.004057500485942034,\n",
       "  0.003987794100735102,\n",
       "  0.003836599681220162,\n",
       "  0.004001928169790551,\n",
       "  0.004118767174066562,\n",
       "  0.0041266007836767375,\n",
       "  0.004088884361416533,\n",
       "  0.004107349517071519,\n",
       "  0.004257957506648693,\n",
       "  0.0042566450884780945,\n",
       "  0.004245753099864548,\n",
       "  0.004240476212637301,\n",
       "  0.004243101967855278,\n",
       "  0.004263092399811648,\n",
       "  0.004259103631773906,\n",
       "  0.004220283946288522,\n",
       "  0.004280852382183345,\n",
       "  0.004409161163349341,\n",
       "  0.004494761949628244,\n",
       "  0.004549493803518126,\n",
       "  0.0046285530577363735,\n",
       "  0.004573102510426237,\n",
       "  0.004592766667881905,\n",
       "  0.004579729540322045,\n",
       "  0.004600183399735281,\n",
       "  0.004577143468812703,\n",
       "  0.004499905965045205,\n",
       "  0.0044329302245272135,\n",
       "  0.0044782264270105815,\n",
       "  0.004463772861647091,\n",
       "  0.004491606746575464,\n",
       "  0.0045335992531509465,\n",
       "  0.004453366661609063,\n",
       "  0.004451847579864669,\n",
       "  0.0044827557768742305,\n",
       "  0.004594247773989018,\n",
       "  0.004617032069864039,\n",
       "  0.004512337497815883,\n",
       "  0.004471463538302381,\n",
       "  0.004509597909055844,\n",
       "  0.004414731941896908,\n",
       "  0.004541468853735288,\n",
       "  0.004584733468794091,\n",
       "  0.004618307587244741,\n",
       "  0.004517912189193352,\n",
       "  0.0045396471894463665,\n",
       "  0.004633605498247544,\n",
       "  0.004613883242614087,\n",
       "  0.004557048013140621,\n",
       "  0.004576193384882031,\n",
       "  0.0044671982558752476,\n",
       "  0.004521138268893771,\n",
       "  0.004568332464397922,\n",
       "  0.004455518938606063,\n",
       "  0.0044487556801413464,\n",
       "  0.0044932670688172145,\n",
       "  0.0044870355215615495,\n",
       "  0.004495463206928585,\n",
       "  0.004405016101089907,\n",
       "  0.004356051677595942,\n",
       "  0.0043511213624675025,\n",
       "  0.004379076860982555,\n",
       "  0.004301659572836131]}"
      ]
     },
     "execution_count": 53,
     "metadata": {},
     "output_type": "execute_result"
    }
   ],
   "source": [
    "t"
   ]
  },
  {
   "cell_type": "markdown",
   "metadata": {
    "colab_type": "text",
    "id": "FJwqBhdeF11Q"
   },
   "source": [
    "Apply the Bayesian optimizer to the function we created in the previous step to identify the best hyperparameters. We will run 10 iterations and set init_points = 2.\n"
   ]
  },
  {
   "cell_type": "code",
   "execution_count": 55,
   "metadata": {
    "ExecuteTime": {
     "end_time": "2019-04-22T15:48:04.682447Z",
     "start_time": "2019-04-22T15:40:14.641634Z"
    },
    "colab": {
     "base_uri": "https://localhost:8080/",
     "height": 51
    },
    "colab_type": "code",
    "id": "JheCOkUE-KZP",
    "outputId": "8f37ee51-885d-44e4-cdcd-ceb7abd58b61"
   },
   "outputs": [
    {
     "name": "stdout",
     "output_type": "stream",
     "text": [
      "|   iter    |  target   | lambda_l1 | lambda_l2 | max_depth | min_ch... | min_da... | num_le... |\n",
      "-------------------------------------------------------------------------------------------------\n",
      "Training until validation scores don't improve for 100 rounds\n",
      "Early stopping, best iteration is:\n",
      "[31]\tcv_agg's valid auc: 0.720911 + 0.00371861\n",
      "| \u001b[0m1        \u001b[0m | \u001b[0m0.7209   \u001b[0m | \u001b[0m0.02287  \u001b[0m | \u001b[0m0.007203 \u001b[0m | \u001b[0m62.05    \u001b[0m | \u001b[0m325.5    \u001b[0m | \u001b[0m172.5    \u001b[0m | \u001b[0m2.207e+03\u001b[0m |\n",
      "Training until validation scores don't improve for 100 rounds\n",
      "Early stopping, best iteration is:\n",
      "[28]\tcv_agg's valid auc: 0.720681 + 0.00351784\n",
      "| \u001b[0m2        \u001b[0m | \u001b[0m0.7207   \u001b[0m | \u001b[0m0.03904  \u001b[0m | \u001b[0m0.0004454\u001b[0m | \u001b[0m21.94    \u001b[0m | \u001b[0m7.458e+03\u001b[0m | \u001b[0m212.4    \u001b[0m | \u001b[0m1.924e+03\u001b[0m |\n",
      "Training until validation scores don't improve for 100 rounds\n",
      "Did not meet early stopping. Best iteration is:\n",
      "[939]\tcv_agg's valid auc: 0.743367 + 0.00419893\n",
      "| \u001b[95m3        \u001b[0m | \u001b[95m0.7434   \u001b[0m | \u001b[95m0.03257  \u001b[0m | \u001b[95m0.04982  \u001b[0m | \u001b[95m30.09    \u001b[0m | \u001b[95m3.127e+03\u001b[0m | \u001b[95m1.391e+03\u001b[0m | \u001b[95m3.44e+03 \u001b[0m |\n",
      "Training until validation scores don't improve for 100 rounds\n",
      "Did not meet early stopping. Best iteration is:\n",
      "[940]\tcv_agg's valid auc: 0.743481 + 0.00460644\n",
      "| \u001b[95m4        \u001b[0m | \u001b[95m0.7435   \u001b[0m | \u001b[95m0.01114  \u001b[0m | \u001b[95m0.04715  \u001b[0m | \u001b[95m36.13    \u001b[0m | \u001b[95m7.09e+03 \u001b[0m | \u001b[95m1.965e+03\u001b[0m | \u001b[95m593.3    \u001b[0m |\n",
      "Training until validation scores don't improve for 100 rounds\n",
      "Early stopping, best iteration is:\n",
      "[877]\tcv_agg's valid auc: 0.743588 + 0.00424135\n",
      "| \u001b[95m5        \u001b[0m | \u001b[95m0.7436   \u001b[0m | \u001b[95m0.04072  \u001b[0m | \u001b[95m0.03354  \u001b[0m | \u001b[95m19.59    \u001b[0m | \u001b[95m3.626e+03\u001b[0m | \u001b[95m1.686e+03\u001b[0m | \u001b[95m1.19e+03 \u001b[0m |\n",
      "Training until validation scores don't improve for 100 rounds\n",
      "Did not meet early stopping. Best iteration is:\n",
      "[949]\tcv_agg's valid auc: 0.743536 + 0.00422841\n",
      "| \u001b[0m6        \u001b[0m | \u001b[0m0.7435   \u001b[0m | \u001b[0m0.01684  \u001b[0m | \u001b[0m0.01197  \u001b[0m | \u001b[0m41.63    \u001b[0m | \u001b[0m1.79e+03 \u001b[0m | \u001b[0m1.528e+03\u001b[0m | \u001b[0m2.717e+03\u001b[0m |\n",
      "Training until validation scores don't improve for 100 rounds\n",
      "Early stopping, best iteration is:\n",
      "[852]\tcv_agg's valid auc: 0.743802 + 0.00424232\n",
      "| \u001b[95m7        \u001b[0m | \u001b[95m0.7438   \u001b[0m | \u001b[95m0.02545  \u001b[0m | \u001b[95m0.04954  \u001b[0m | \u001b[95m38.8     \u001b[0m | \u001b[95m3.595e+03\u001b[0m | \u001b[95m1.687e+03\u001b[0m | \u001b[95m1.053e+03\u001b[0m |\n",
      "Training until validation scores don't improve for 100 rounds\n",
      "Did not meet early stopping. Best iteration is:\n",
      "[998]\tcv_agg's valid auc: 0.744209 + 0.00495925\n",
      "| \u001b[95m8        \u001b[0m | \u001b[95m0.7442   \u001b[0m | \u001b[95m0.04219  \u001b[0m | \u001b[95m0.01245  \u001b[0m | \u001b[95m9.947    \u001b[0m | \u001b[95m5.176e+03\u001b[0m | \u001b[95m1.958e+03\u001b[0m | \u001b[95m225.3    \u001b[0m |\n",
      "Training until validation scores don't improve for 100 rounds\n",
      "Did not meet early stopping. Best iteration is:\n",
      "[957]\tcv_agg's valid auc: 0.743404 + 0.00471358\n",
      "| \u001b[0m9        \u001b[0m | \u001b[0m0.7434   \u001b[0m | \u001b[0m0.04167  \u001b[0m | \u001b[0m0.02577  \u001b[0m | \u001b[0m40.42    \u001b[0m | \u001b[0m9.663e+03\u001b[0m | \u001b[0m1.972e+03\u001b[0m | \u001b[0m115.4    \u001b[0m |\n",
      "Training until validation scores don't improve for 100 rounds\n",
      "Early stopping, best iteration is:\n",
      "[41]\tcv_agg's valid auc: 0.717139 + 0.00392144\n",
      "| \u001b[0m10       \u001b[0m | \u001b[0m0.7171   \u001b[0m | \u001b[0m0.02742  \u001b[0m | \u001b[0m0.01837  \u001b[0m | \u001b[0m23.13    \u001b[0m | \u001b[0m4.368e+03\u001b[0m | \u001b[0m291.6    \u001b[0m | \u001b[0m49.37    \u001b[0m |\n",
      "Training until validation scores don't improve for 100 rounds\n",
      "Did not meet early stopping. Best iteration is:\n",
      "[969]\tcv_agg's valid auc: 0.743493 + 0.00445667\n",
      "| \u001b[0m11       \u001b[0m | \u001b[0m0.7435   \u001b[0m | \u001b[0m0.02093  \u001b[0m | \u001b[0m0.04386  \u001b[0m | \u001b[0m47.81    \u001b[0m | \u001b[0m2.402e+03\u001b[0m | \u001b[0m1.988e+03\u001b[0m | \u001b[0m1.638e+03\u001b[0m |\n",
      "Training until validation scores don't improve for 100 rounds\n",
      "Early stopping, best iteration is:\n",
      "[830]\tcv_agg's valid auc: 0.743359 + 0.00440226\n",
      "| \u001b[0m12       \u001b[0m | \u001b[0m0.7434   \u001b[0m | \u001b[0m0.02137  \u001b[0m | \u001b[0m0.02083  \u001b[0m | \u001b[0m58.69    \u001b[0m | \u001b[0m4.953e+03\u001b[0m | \u001b[0m1.99e+03 \u001b[0m | \u001b[0m3.983e+03\u001b[0m |\n",
      "=================================================================================================\n"
     ]
    }
   ],
   "source": [
    "lgbBO = BayesianOptimization(lgb_eval, {'num_leaves': (25, 4000),\n",
    "                                                'max_depth': (5, 63),\n",
    "                                                'lambda_l2': (0.0, 0.05),\n",
    "                                                'lambda_l1': (0.0, 0.05),\n",
    "                                                'min_child_samples': (50, 10000),\n",
    "                                                'min_data_in_leaf': (100, 2000)\n",
    "                                                })\n",
    "\n",
    "lgbBO.maximize(n_iter=10, init_points=2)"
   ]
  },
  {
   "cell_type": "markdown",
   "metadata": {
    "colab_type": "text",
    "id": "rdkxhhST-KZS"
   },
   "source": [
    " **<font color='teal'> Print the best result by using the '.max' function.</font>**"
   ]
  },
  {
   "cell_type": "code",
   "execution_count": 56,
   "metadata": {
    "ExecuteTime": {
     "end_time": "2019-04-22T15:49:01.513767Z",
     "start_time": "2019-04-22T15:49:01.509392Z"
    },
    "colab": {},
    "colab_type": "code",
    "id": "oc8z6mfy-KZS"
   },
   "outputs": [
    {
     "data": {
      "text/plain": [
       "{'target': 0.7442087249399645,\n",
       " 'params': {'lambda_l1': 0.04218624379759764,\n",
       "  'lambda_l2': 0.012446055455388606,\n",
       "  'max_depth': 9.946947319765508,\n",
       "  'min_child_samples': 5176.26239175597,\n",
       "  'min_data_in_leaf': 1957.7844329541647,\n",
       "  'num_leaves': 225.26567840261922}}"
      ]
     },
     "execution_count": 56,
     "metadata": {},
     "output_type": "execute_result"
    }
   ],
   "source": [
    "lgbBO.max"
   ]
  },
  {
   "cell_type": "markdown",
   "metadata": {
    "ExecuteTime": {
     "end_time": "2019-04-22T15:50:29.049881Z",
     "start_time": "2019-04-22T15:50:29.045908Z"
    },
    "colab_type": "text",
    "id": "J5LAydKC-KZW"
   },
   "source": [
    "Review the process at each step by using the '.res[0]' function."
   ]
  },
  {
   "cell_type": "code",
   "execution_count": 57,
   "metadata": {
    "ExecuteTime": {
     "end_time": "2019-04-22T15:51:01.001688Z",
     "start_time": "2019-04-22T15:51:00.997484Z"
    },
    "colab": {},
    "colab_type": "code",
    "id": "X1ttZmrI-KZX"
   },
   "outputs": [
    {
     "data": {
      "text/plain": [
       "{'target': 0.7209105666900921,\n",
       " 'params': {'lambda_l1': 0.022866771935747127,\n",
       "  'lambda_l2': 0.007202563468881063,\n",
       "  'max_depth': 62.04649838087039,\n",
       "  'min_child_samples': 325.46782990588815,\n",
       "  'min_data_in_leaf': 172.50592690068493,\n",
       "  'num_leaves': 2207.4671595370532}}"
      ]
     },
     "execution_count": 57,
     "metadata": {},
     "output_type": "execute_result"
    }
   ],
   "source": [
    "lgbBO.res[0]"
   ]
  },
  {
   "cell_type": "code",
   "execution_count": 59,
   "metadata": {},
   "outputs": [
    {
     "name": "stdout",
     "output_type": "stream",
     "text": [
      "Res at:  0\n",
      "{'target': 0.7209105666900921, 'params': {'lambda_l1': 0.022866771935747127, 'lambda_l2': 0.007202563468881063, 'max_depth': 62.04649838087039, 'min_child_samples': 325.46782990588815, 'min_data_in_leaf': 172.50592690068493, 'num_leaves': 2207.4671595370532}}\n",
      "Res at:  1\n",
      "{'target': 0.720680653809661, 'params': {'lambda_l1': 0.03903796711731359, 'lambda_l2': 0.0004454266179438782, 'max_depth': 21.93703438083595, 'min_child_samples': 7458.471307461431, 'min_data_in_leaf': 212.35372005137788, 'num_leaves': 1924.1728569792765}}\n",
      "Res at:  2\n",
      "{'target': 0.7433667719656963, 'params': {'lambda_l1': 0.03257283234079245, 'lambda_l2': 0.049819978321831056, 'max_depth': 30.08937397619508, 'min_child_samples': 3127.2594955044356, 'min_data_in_leaf': 1390.6574840947633, 'num_leaves': 3439.8962857736815}}\n",
      "Res at:  3\n",
      "{'target': 0.7434811009287889, 'params': {'lambda_l1': 0.01113662112142232, 'lambda_l2': 0.047151060730760606, 'max_depth': 36.12814530200863, 'min_child_samples': 7090.464556612543, 'min_data_in_leaf': 1964.8748350328524, 'num_leaves': 593.2622549109243}}\n",
      "Res at:  4\n",
      "{'target': 0.7435882341880898, 'params': {'lambda_l1': 0.040719075574156716, 'lambda_l2': 0.033542580893752, 'max_depth': 19.587030346693602, 'min_child_samples': 3625.6907722393566, 'min_data_in_leaf': 1686.337165011594, 'num_leaves': 1190.4693488470632}}\n",
      "Res at:  5\n",
      "{'target': 0.7435361302085673, 'params': {'lambda_l1': 0.016837233705713463, 'lambda_l2': 0.011974668651296518, 'max_depth': 41.62962623628662, 'min_child_samples': 1790.4193074221268, 'min_data_in_leaf': 1528.3395058698088, 'num_leaves': 2717.324692141455}}\n",
      "Res at:  6\n",
      "{'target': 0.7438024044988186, 'params': {'lambda_l1': 0.025448245761680328, 'lambda_l2': 0.04954104180066603, 'max_depth': 38.795749097596605, 'min_child_samples': 3594.8625712092444, 'min_data_in_leaf': 1686.609709392811, 'num_leaves': 1052.6618502722351}}\n",
      "Res at:  7\n",
      "{'target': 0.7442087249399645, 'params': {'lambda_l1': 0.04218624379759764, 'lambda_l2': 0.012446055455388606, 'max_depth': 9.946947319765508, 'min_child_samples': 5176.26239175597, 'min_data_in_leaf': 1957.7844329541647, 'num_leaves': 225.26567840261922}}\n",
      "Res at:  8\n",
      "{'target': 0.7434037191934615, 'params': {'lambda_l1': 0.041671607996426364, 'lambda_l2': 0.025774355966848125, 'max_depth': 40.418390754984486, 'min_child_samples': 9663.301118848216, 'min_data_in_leaf': 1972.487297361612, 'num_leaves': 115.35965513233859}}\n",
      "Res at:  9\n",
      "{'target': 0.7171391603927617, 'params': {'lambda_l1': 0.02741792673665079, 'lambda_l2': 0.018367007657657353, 'max_depth': 23.128406962254765, 'min_child_samples': 4367.7483606506385, 'min_data_in_leaf': 291.5603770638321, 'num_leaves': 49.36759666791271}}\n",
      "Res at:  10\n",
      "{'target': 0.7434928022534771, 'params': {'lambda_l1': 0.020934231481299276, 'lambda_l2': 0.04386036071771078, 'max_depth': 47.814224754481316, 'min_child_samples': 2401.555656625225, 'min_data_in_leaf': 1988.08113608701, 'num_leaves': 1637.902080834491}}\n",
      "Res at:  11\n",
      "{'target': 0.7433591641976166, 'params': {'lambda_l1': 0.021373600426549334, 'lambda_l2': 0.02082586173304294, 'max_depth': 58.689332011399095, 'min_child_samples': 4952.673855810469, 'min_data_in_leaf': 1990.4815135745275, 'num_leaves': 3983.3177904948684}}\n"
     ]
    }
   ],
   "source": [
    "for i in range(len(lgbBO.res)):\n",
    "    print('Res at: ', i)\n",
    "    print(lgbBO.res[i])"
   ]
  }
 ],
 "metadata": {
  "colab": {
   "name": "Bayesian_optimization_exercise.ipynb",
   "provenance": []
  },
  "deepnote_execution_queue": [],
  "kernelspec": {
   "display_name": "Python 3 (ipykernel)",
   "language": "python",
   "name": "python3"
  },
  "language_info": {
   "codemirror_mode": {
    "name": "ipython",
    "version": 3
   },
   "file_extension": ".py",
   "mimetype": "text/x-python",
   "name": "python",
   "nbconvert_exporter": "python",
   "pygments_lexer": "ipython3",
   "version": "3.11.7"
  },
  "varInspector": {
   "cols": {
    "lenName": 16,
    "lenType": 16,
    "lenVar": 40
   },
   "kernels_config": {
    "python": {
     "delete_cmd_postfix": "",
     "delete_cmd_prefix": "del ",
     "library": "var_list.py",
     "varRefreshCmd": "print(var_dic_list())"
    },
    "r": {
     "delete_cmd_postfix": ") ",
     "delete_cmd_prefix": "rm(",
     "library": "var_list.r",
     "varRefreshCmd": "cat(var_dic_list()) "
    }
   },
   "types_to_exclude": [
    "module",
    "function",
    "builtin_function_or_method",
    "instance",
    "_Feature"
   ],
   "window_display": false
  }
 },
 "nbformat": 4,
 "nbformat_minor": 4
}
